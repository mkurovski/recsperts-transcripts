{
 "cells": [
  {
   "cell_type": "code",
   "execution_count": 34,
   "id": "e50cc06f-a2b3-4257-9467-3679674e55be",
   "metadata": {},
   "outputs": [],
   "source": [
    "import json\n",
    "import os\n",
    "import pickle\n",
    "import requests\n",
    "\n",
    "import pandas as pd\n",
    "\n",
    "with open(\"spelling_error.json\", \"r\") as fp:\n",
    "    error_mapping = json.load(fp)\n",
    "\n",
    "transcript_remark = \"Note: This transcript has been generated automatically using OpenAI's whisper and may contain inaccuracies or errors. We recommend listening to the audio for a better understanding of the content. Please feel free to reach out if you spot any corrections that need to be made. Thank you for your understanding.\""
   ]
  },
  {
   "cell_type": "code",
   "execution_count": 35,
   "id": "a4d226ab-c972-4f8c-9b1e-86eab97e8693",
   "metadata": {},
   "outputs": [],
   "source": [
    "source_folder = \"raw\"\n",
    "target_folder = \"transcripts\""
   ]
  },
  {
   "cell_type": "code",
   "execution_count": null,
   "id": "15ab0ca8-b656-409c-bb38-89debc5effce",
   "metadata": {},
   "outputs": [],
   "source": [
    "sorted(os.listdir(source_folder))"
   ]
  },
  {
   "cell_type": "markdown",
   "id": "e65666a5-be57-4a47-a9b3-c43b6bc6efc4",
   "metadata": {},
   "source": [
    "## Postprocesing"
   ]
  },
  {
   "cell_type": "code",
   "execution_count": 37,
   "id": "85f2d1ba-8d77-45b8-8801-13faa1636b7c",
   "metadata": {},
   "outputs": [],
   "source": [
    "def write_final_transcript(raw_filename: str, transcript_remark: str=transcript_remark) -> str:\n",
    "    with open(os.path.join(source_folder, filename), \"rb\") as file:\n",
    "        result = pickle.load(file)\n",
    "\n",
    "    text = f\"{transcript_remark}\\n\\n\"\n",
    "    for segment in result[\"segments\"]:\n",
    "        text += segment[\"text\"].strip()\n",
    "        if segment[\"text\"][-1] in [\"?\", \"!\", \".\"]:\n",
    "            text += \"\\n\"\n",
    "        else:\n",
    "            text += \" \"\n",
    "\n",
    "    for to_replace, replace_with in error_mapping.items():\n",
    "        text = text.replace(to_replace, replace_with)\n",
    "\n",
    "    transcript_filename = filename.strip(\"_raw.pkl\") + \".txt\"\n",
    "    with open(os.path.join(target_folder, transcript_filename), \"w\") as file:\n",
    "        file.write(text)\n",
    "    \n",
    "    return text"
   ]
  },
  {
   "cell_type": "code",
   "execution_count": 38,
   "id": "1e5a21d8-e550-4aee-84b3-d0d0820b121b",
   "metadata": {},
   "outputs": [],
   "source": [
    "for filename in sorted(os.listdir(source_folder)):\n",
    "    write_final_transcript(filename)"
   ]
  }
 ],
 "metadata": {
  "kernelspec": {
   "display_name": "Python 3 (ipykernel)",
   "language": "python",
   "name": "python3"
  },
  "language_info": {
   "codemirror_mode": {
    "name": "ipython",
    "version": 3
   },
   "file_extension": ".py",
   "mimetype": "text/x-python",
   "name": "python",
   "nbconvert_exporter": "python",
   "pygments_lexer": "ipython3",
   "version": "3.10.5"
  }
 },
 "nbformat": 4,
 "nbformat_minor": 5
}
